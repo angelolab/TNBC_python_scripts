{
 "cells": [
  {
   "cell_type": "markdown",
   "id": "ed3314da-20ad-4047-a2bd-be6822b232f8",
   "metadata": {},
   "source": [
    "## This notebook is an example: create a copy before running it or you will get merge conflicts!\n",
    "\n",
    "### The purpose of this notebook is to organize your image data following processing so that it is ready to be analyzed. This entails three steps:\n",
    "### 1. Renaming each image folder to have the user-supplied name, rather than fov-x-scan-y\n",
    "### 2. Combining directories together that represent the same sample/tma/run, that may have been created due to restarts or crashes\n",
    "### 3. Creating a single cohort directory of images"
   ]
  },
  {
   "cell_type": "code",
   "execution_count": 7,
   "id": "e9d450be-ead1-436a-8169-5577057d5d62",
   "metadata": {},
   "outputs": [],
   "source": [
    "# Imports\n",
    "import sys\n",
    "sys.path.append('../')\n",
    "\n",
    "import os\n",
    "import shutil\n",
    "\n",
    "from ark.utils.io_utils import list_folders\n",
    "\n",
    "from toffy import reorg"
   ]
  },
  {
   "cell_type": "code",
   "execution_count": 8,
   "id": "5b603549-c94c-4ef7-8539-5fbd6bb0a0cb",
   "metadata": {},
   "outputs": [],
   "source": [
    "# Define base file paths\n",
    "bin_file_dir = 'I:\\\\run_files'\n",
    "processed_image_dir = 'I:\\\\normalized'\n",
    "cohort_image_dir = 'I:\\\\'"
   ]
  },
  {
   "cell_type": "markdown",
   "id": "688f2301-884c-4a91-b169-4abd6b81bf1d",
   "metadata": {},
   "source": [
    "## 1. Renaming each image folder to have user supplied names. \n",
    "### The first step is to create a name for your cohort. This folder will hold all of the formatted, ready to analyze tifs"
   ]
  },
  {
   "cell_type": "code",
   "execution_count": 9,
   "id": "6e5ba9a2-659b-494d-a320-1045751a5a96",
   "metadata": {},
   "outputs": [],
   "source": [
    "cohort_name = 'TONIC_Cohort'\n",
    "cohort_path = os.path.join(cohort_image_dir, cohort_name)\n",
    "if not os.path.exists(cohort_path):\n",
    "    os.makedirs(cohort_path)"
   ]
  },
  {
   "cell_type": "markdown",
   "id": "80db6ac3-a663-4512-a81b-57381fb5425c",
   "metadata": {},
   "source": [
    "### The next step is to identify all of the runs that belong to your cohort. If all of the runs in the **processed_image_dir** folder are part of your cohort, you can use the list_folders function below to list them all. Otherwise, you'll need to manually specify which runs are yours"
   ]
  },
  {
   "cell_type": "code",
   "execution_count": 12,
   "id": "c09dd23c-35b3-4982-a662-c580ee64ec70",
   "metadata": {},
   "outputs": [
    {
     "data": {
      "text/plain": [
       "['2022-03-01_TONIC_TMA14_run1a', '2022-03-01_TONIC_TMA14_run1b']"
      ]
     },
     "execution_count": 12,
     "metadata": {},
     "output_type": "execute_result"
    }
   ],
   "source": [
    "# Either list the runs here that belong to your cohort\n",
    "# run_names = ['20220101_TMA1', '20220102_TMA2']\n",
    "\n",
    "# Or get all of the runs from the processed image folder\n",
    "#run_names = list_folders(processed_image_dir)\n",
    "run_names[-2:]"
   ]
  },
  {
   "cell_type": "markdown",
   "id": "d7d04f41-f2df-4d79-a92a-cfb3b318555e",
   "metadata": {},
   "source": [
    "### Now we'll rename all of the FOVs within each of your runs so that they have the original name you gave them on the MIBI. For example, fov-1-scan-1 might be renamed patient_1_region_1, etc. "
   ]
  },
  {
   "cell_type": "code",
   "execution_count": 13,
   "id": "8740db9f-2154-415c-99b0-4d33e7a6dcd9",
   "metadata": {},
   "outputs": [
    {
     "name": "stdout",
     "output_type": "stream",
     "text": [
      "Renaming FOVs in 2022-03-01_TONIC_TMA14_run1a\n"
     ]
    },
    {
     "name": "stderr",
     "output_type": "stream",
     "text": [
      "C:\\Users\\pathology\\anaconda3\\envs\\toffy_env\\lib\\site-packages\\ark\\utils\\misc_utils.py:188: UserWarning: Not all values given in list fovs in run file were found in list existing fov folders.\n",
      " Displaying 10 of 20 invalid value(s) for list fovs in run file\n",
      "1            fov-16-scan-1\n",
      "2            fov-17-scan-1\n",
      "3            fov-18-scan-1\n",
      "4            fov-19-scan-1\n",
      "5            fov-20-scan-1\n",
      "6            fov-21-scan-1\n",
      "7            fov-22-scan-1\n",
      "8            fov-23-scan-1\n",
      "9            fov-24-scan-1\n",
      "10           fov-25-scan-1\n",
      "\n",
      "  warnings.warn(err_str)\n"
     ]
    },
    {
     "name": "stdout",
     "output_type": "stream",
     "text": [
      "Renaming FOVs in 2022-03-01_TONIC_TMA14_run1b\n"
     ]
    },
    {
     "name": "stderr",
     "output_type": "stream",
     "text": [
      "C:\\Users\\pathology\\anaconda3\\envs\\toffy_env\\lib\\site-packages\\ark\\utils\\misc_utils.py:188: UserWarning: Not all values given in list fovs in run file were found in list existing fov folders.\n",
      " Displaying 10 of 15 invalid value(s) for list fovs in run file\n",
      "1            fov-1-scan-1\n",
      "2            fov-2-scan-1\n",
      "3            fov-3-scan-1\n",
      "4            fov-4-scan-1\n",
      "5            fov-5-scan-1\n",
      "6            fov-6-scan-1\n",
      "7            fov-7-scan-1\n",
      "8            fov-8-scan-1\n",
      "9            fov-9-scan-1\n",
      "10           fov-10-scan-1\n",
      "\n",
      "  warnings.warn(err_str)\n"
     ]
    }
   ],
   "source": [
    "# Loop over all runs and rename\n",
    "for run in run_names[-2:]:\n",
    "    print(\"Renaming FOVs in {}\".format(run))\n",
    "    input_dir = os.path.join(processed_image_dir, run)\n",
    "    output_dir = os.path.join(cohort_path, run)\n",
    "    json_path = os.path.join(bin_file_dir, run, run + '.json')\n",
    "    reorg.rename_fov_dirs(json_run_path=json_path, default_run_dir=input_dir, output_run_dir=output_dir)"
   ]
  },
  {
   "cell_type": "markdown",
   "id": "555872f2-04f1-476d-8a7e-bd5db2c95e8f",
   "metadata": {},
   "source": [
    "## 2. Combining runs together\n",
    "### If you have multiple runs that you would like combined together, such as 20220101_TMA1_part1 and 20220102_TMA1_part2, the cells below will automate that process. "
   ]
  },
  {
   "cell_type": "code",
   "execution_count": 73,
   "id": "d6022f8b-2a3d-4e89-ba9f-10d5a345dde3",
   "metadata": {},
   "outputs": [
    {
     "name": "stdout",
     "output_type": "stream",
     "text": [
      "You selected the following subfolders: make sure all of these should be combined together []\n"
     ]
    }
   ],
   "source": [
    "# First, pick a string that is present in all of the runs you want combined together. Check the output of this cell to make \n",
    "# sure you are only combining together the right folders\n",
    "run_string = 'TONIC_TMA1'\n",
    "folders = list_folders(cohort_path, run_string)\n",
    "print(\"You selected the following subfolders: make sure all of these should be combined together {}\".format(folders))"
   ]
  },
  {
   "cell_type": "code",
   "execution_count": 71,
   "id": "faaf98cb-35d7-4add-b0a9-d8685534971f",
   "metadata": {},
   "outputs": [],
   "source": [
    "# Once you've verified that the correct runs are being combined together, you can run this cell. \n",
    "reorg.merge_partial_runs(cohort_dir=cohort_path, run_string=run_string)\n",
    "\n",
    "# These two cells be re-run multiple times to combine different runs together"
   ]
  },
  {
   "cell_type": "markdown",
   "id": "24477527-6099-43e7-9046-486cda61968b",
   "metadata": {
    "tags": []
   },
   "source": [
    "## 3. Creating a single cohort directory\n",
    "### Once all of the FOVs within each folder have been renamed and all of the partial runs have been combined together, you can now get rid of the run structure and create a single cohort directory of FOVS. The function below will combine all of the FOVs within each of your distinct runs into a single directory with the run name appended. For example, if you have a structure like this:\n",
    "\n",
    "*  20220101_run_1\n",
    "    *  tonsil_1\n",
    "    *  tonsil_2\n",
    "*  20220102_run_2\n",
    "    *  lymph_1\n",
    "    *  spleen_2\n",
    "\n",
    "### It will get merged into something that looks like this:\n",
    "* image_data\n",
    "    *  20220101_run_1_tonsil_1\n",
    "    *  20220101_run_1_tonsil_2\n",
    "    *  20220102_run_2_lymph_1\n",
    "    *  20220102_run_2_spleen_2\n",
    "\n",
    "### This is not required; if you plan on processing each run separately, such as for tiled images, you can skip this step. However, if you will be doing all of your analysis at the individual FOV level, this will simplify the downstream steps."
   ]
  },
  {
   "cell_type": "code",
   "execution_count": 74,
   "id": "41842a09-46e9-4d8d-873c-cac22fc67cdb",
   "metadata": {},
   "outputs": [],
   "source": [
    "reorg.combine_runs(cohort_dir=cohort_path)"
   ]
  }
 ],
 "metadata": {
  "kernelspec": {
   "display_name": "Python 3 (ipykernel)",
   "language": "python",
   "name": "python3"
  },
  "language_info": {
   "codemirror_mode": {
    "name": "ipython",
    "version": 3
   },
   "file_extension": ".py",
   "mimetype": "text/x-python",
   "name": "python",
   "nbconvert_exporter": "python",
   "pygments_lexer": "ipython3",
   "version": "3.8.13"
  }
 },
 "nbformat": 4,
 "nbformat_minor": 5
}
